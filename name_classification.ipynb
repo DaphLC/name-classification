{
  "nbformat": 4,
  "nbformat_minor": 0,
  "metadata": {
    "kernelspec": {
      "display_name": "Python 3",
      "language": "python",
      "name": "python3"
    },
    "language_info": {
      "codemirror_mode": {
        "name": "ipython",
        "version": 3
      },
      "file_extension": ".py",
      "mimetype": "text/x-python",
      "name": "python",
      "nbconvert_exporter": "python",
      "pygments_lexer": "ipython3",
      "version": "3.8.3"
    },
    "colab": {
      "name": "name-classification.ipynb",
      "provenance": [],
      "toc_visible": true
    }
  },
  "cells": [
    {
      "cell_type": "markdown",
      "metadata": {
        "id": "lDNfTxYH2qjH"
      },
      "source": [
        "# Text Classification Tutorial    \n",
        "### by Daphné Le Cornec"
      ]
    },
    {
      "cell_type": "markdown",
      "metadata": {
        "id": "gKrG1DZt2qjP"
      },
      "source": [
        "This project focuses on text classification, one of the main tasks of Natural Language Processing. Here, the task consists of classifying names by origin.  \n",
        "The data has been parsed from *https://adoption.com/baby-names/*.  \n",
        "\n",
        "For more information on the framework, please refer to the related paper provided with this notebook."
      ]
    },
    {
      "cell_type": "code",
      "metadata": {
        "colab": {
          "base_uri": "https://localhost:8080/"
        },
        "id": "rBXKbI3g2rwX",
        "outputId": "7bb9472a-a231-413d-f050-66bf69087942"
      },
      "source": [
        "!git clone https://github.com/DaphLC/name-classification.git"
      ],
      "execution_count": 1,
      "outputs": [
        {
          "output_type": "stream",
          "text": [
            "Cloning into 'name-classification'...\n",
            "remote: Enumerating objects: 12, done.\u001b[K\n",
            "remote: Counting objects: 100% (12/12), done.\u001b[K\n",
            "remote: Compressing objects: 100% (11/11), done.\u001b[K\n",
            "remote: Total 12 (delta 0), reused 9 (delta 0), pack-reused 0\u001b[K\n",
            "Unpacking objects: 100% (12/12), done.\n"
          ],
          "name": "stdout"
        }
      ]
    },
    {
      "cell_type": "code",
      "metadata": {
        "colab": {
          "base_uri": "https://localhost:8080/"
        },
        "id": "y810tyBs3eB1",
        "outputId": "90aec21f-6621-4eaa-a496-afa1b2e4fd7e"
      },
      "source": [
        "%cd name-classification/"
      ],
      "execution_count": 4,
      "outputs": [
        {
          "output_type": "stream",
          "text": [
            "/content/name-classification\n"
          ],
          "name": "stdout"
        }
      ]
    },
    {
      "cell_type": "code",
      "metadata": {
        "id": "u_WxstVj2qjQ"
      },
      "source": [
        "from sklearn.metrics import (accuracy_score, precision_score, recall_score, \n",
        "                             f1_score, roc_auc_score, confusion_matrix)\n",
        "from sklearn.model_selection import train_test_split\n",
        "from collections import Counter\n",
        "\n",
        "from models import LSTMWithAttn, SelfAttention\n",
        "from data import Dataset, Vocab, collate_fn\n",
        "from trainer import Trainer\n",
        "from evaluation import (Plotter, prediction, custom_accuracy, evaluate,\n",
        "                        unique_target)\n",
        "\n",
        "import matplotlib.pyplot as plt\n",
        "import seaborn as sns\n",
        "import numpy as np\n",
        "import matplotlib\n",
        "import requests\n",
        "import gensim\n",
        "import random\n",
        "import torch\n",
        "import copy\n",
        "import json\n",
        "import time\n",
        "import bs4"
      ],
      "execution_count": 6,
      "outputs": []
    },
    {
      "cell_type": "code",
      "metadata": {
        "id": "LrONpHvi2qjR"
      },
      "source": [
        "# setting all random seeds\n",
        "torch.manual_seed(0)\n",
        "random.seed(0)\n",
        "np.random.seed(0)"
      ],
      "execution_count": null,
      "outputs": []
    },
    {
      "cell_type": "markdown",
      "metadata": {
        "id": "xuxCz5uv2qjT"
      },
      "source": [
        "## Load dataset"
      ]
    },
    {
      "cell_type": "markdown",
      "metadata": {
        "id": "2vwxjM9H2qjU"
      },
      "source": [
        "First, we load the dataset which has been parsed from *https://adoption.com/baby-names/* and cleaned.\n"
      ]
    },
    {
      "cell_type": "code",
      "metadata": {
        "id": "s75mpKGb2qjU"
      },
      "source": [
        "with open('cleaned_names.jsonl', mode='r', encoding='utf8') as f:\n",
        "    names_dataset = [json.loads(line) for line in f]"
      ],
      "execution_count": 7,
      "outputs": []
    },
    {
      "cell_type": "markdown",
      "metadata": {
        "id": "jNhoWqi52qjU"
      },
      "source": [
        "The dataset contains 90 618 rows. Below, an example of a name and its attribute in the dataset."
      ]
    },
    {
      "cell_type": "code",
      "metadata": {
        "id": "305PV9Cw2qjV",
        "outputId": "4e46aff5-c725-40fb-add6-042ddd7b18a4"
      },
      "source": [
        "print(len(names_dataset))\n",
        "print(names_dataset[9])"
      ],
      "execution_count": null,
      "outputs": [
        {
          "output_type": "stream",
          "text": [
            "90618\n",
            "{'Name': 'Aaban', 'Meaning': 'Name of the Angels', 'Gender': 'Male', 'Origin': 'Arabic'}\n"
          ],
          "name": "stdout"
        }
      ]
    },
    {
      "cell_type": "markdown",
      "metadata": {
        "id": "1fDhsMfG2qjX"
      },
      "source": [
        "## Data exploration"
      ]
    },
    {
      "cell_type": "markdown",
      "metadata": {
        "id": "WsYGuOp82qjX"
      },
      "source": [
        "We create a dictionary by origin: it gives all the names in the dataset associated with the origin."
      ]
    },
    {
      "cell_type": "code",
      "metadata": {
        "id": "IAXqDiBy2qjY"
      },
      "source": [
        "by_origin = dict()\n",
        "for name in names_dataset:\n",
        "    if name['Origin'] not in by_origin:\n",
        "        by_origin[name['Origin']] = list()\n",
        "    by_origin[name['Origin']].append(name['Name'])"
      ],
      "execution_count": null,
      "outputs": []
    },
    {
      "cell_type": "markdown",
      "metadata": {
        "id": "Iv2GVYH92qjZ"
      },
      "source": [
        "We shuffle the order of the names in the dictionary by origin so that when we create the train and test datasets, we have a shuffled list of names, not names ordered alphabetically."
      ]
    },
    {
      "cell_type": "code",
      "metadata": {
        "id": "GBOBXiIa2qjZ"
      },
      "source": [
        "# shuffle list of names so that they are not ordered alphabetically\n",
        "for origin, names in by_origin.items():\n",
        "    random.shuffle(names)"
      ],
      "execution_count": null,
      "outputs": []
    },
    {
      "cell_type": "markdown",
      "metadata": {
        "id": "7ljXxnXn2qjZ"
      },
      "source": [
        "For example, the French names in the dataset are:"
      ]
    },
    {
      "cell_type": "code",
      "metadata": {
        "scrolled": true,
        "id": "bTDDWXEW2qja",
        "outputId": "3f46c023-742e-4977-af35-4f6a07211c47"
      },
      "source": [
        "by_origin['French'][:10]"
      ],
      "execution_count": null,
      "outputs": [
        {
          "output_type": "execute_result",
          "data": {
            "text/plain": [
              "['Olivier',\n",
              " 'Henry',\n",
              " 'Matty',\n",
              " 'Eveline',\n",
              " 'Bellamy',\n",
              " 'Dariel',\n",
              " 'Ruff',\n",
              " 'Raydon',\n",
              " 'Joyelle',\n",
              " 'Sebastien']"
            ]
          },
          "metadata": {
            "tags": []
          },
          "execution_count": 7
        }
      ]
    },
    {
      "cell_type": "markdown",
      "metadata": {
        "id": "Vma6nqIZ2qjb"
      },
      "source": [
        "Then, we create a dictionary by name: it gives all the origins associated with a name."
      ]
    },
    {
      "cell_type": "code",
      "metadata": {
        "id": "aPs6Vc622qjb"
      },
      "source": [
        "by_name = dict()\n",
        "for name in names_dataset:\n",
        "    if name['Name'] not in by_name:\n",
        "        by_name[name['Name']] = list()\n",
        "    by_name[name['Name']].append(name['Origin'])"
      ],
      "execution_count": null,
      "outputs": []
    },
    {
      "cell_type": "markdown",
      "metadata": {
        "id": "e2oXSei92qjb"
      },
      "source": [
        "For example, the name 'Alice' is associated to 7 different origins."
      ]
    },
    {
      "cell_type": "code",
      "metadata": {
        "id": "Cm76isiq2qjb",
        "outputId": "18072b57-a070-4f83-9de3-f54c23fca3b6"
      },
      "source": [
        "by_name['Alice']"
      ],
      "execution_count": null,
      "outputs": [
        {
          "output_type": "execute_result",
          "data": {
            "text/plain": [
              "['French', 'English', 'German', 'Indian', 'Old-German', 'Greek', 'Celtic']"
            ]
          },
          "metadata": {
            "tags": []
          },
          "execution_count": 9
        }
      ]
    },
    {
      "cell_type": "markdown",
      "metadata": {
        "id": "9MPjnEFq2qjb"
      },
      "source": [
        "Now, we count how many name are associated to multiple origins, as it could be a problem when evaluating our models."
      ]
    },
    {
      "cell_type": "code",
      "metadata": {
        "id": "R3OsRLeG2qjc"
      },
      "source": [
        "# count how many names are associated with more than 1 origin\n",
        "multiple_origins = {\n",
        "    'one_origin': 0,\n",
        "    'multiple_origins': 0\n",
        "}\n",
        "for name in by_name:\n",
        "    if len(by_name[name]) == 1:\n",
        "        multiple_origins['one_origin'] += 1\n",
        "    else:\n",
        "        multiple_origins['multiple_origins'] += 1       "
      ],
      "execution_count": null,
      "outputs": []
    },
    {
      "cell_type": "markdown",
      "metadata": {
        "id": "oDwxJlh82qjc"
      },
      "source": [
        "We can see that 17 480 (28%) of the names in the dataset have multiple origins. The fact that a name can be associated with multiple origins will be taken into account during the evaluation phase of our models by considering that any prediction is correct if the origin is in the list of admissible origins associated with the input name."
      ]
    },
    {
      "cell_type": "code",
      "metadata": {
        "id": "He41voU52qje",
        "outputId": "48a2d0ac-3069-46b6-f4e9-ab67a5349f2e"
      },
      "source": [
        "multiple_origins"
      ],
      "execution_count": null,
      "outputs": [
        {
          "output_type": "execute_result",
          "data": {
            "text/plain": [
              "{'one_origin': 44703, 'multiple_origins': 17480}"
            ]
          },
          "metadata": {
            "tags": []
          },
          "execution_count": 11
        }
      ]
    },
    {
      "cell_type": "markdown",
      "metadata": {
        "id": "ZSoOf63V2qje"
      },
      "source": [
        "## Data selection"
      ]
    },
    {
      "cell_type": "markdown",
      "metadata": {
        "id": "av6yJcmx2qjg"
      },
      "source": [
        "In our experiments, we decide to select 4 different origins, with relatively different names. We will semect only 2000 names by origin. To select origins with at least 2000 names  associated, we compute the number of names by origin."
      ]
    },
    {
      "cell_type": "code",
      "metadata": {
        "id": "CQSBvA7s2qjh"
      },
      "source": [
        "by_origin_len = {\n",
        "    key: len(value)\n",
        "    for key, value in by_origin.items()\n",
        "}\n",
        "by_origin_len = sorted(by_origin_len.items(), key=lambda item: item[1], reverse=True)"
      ],
      "execution_count": null,
      "outputs": []
    },
    {
      "cell_type": "code",
      "metadata": {
        "scrolled": true,
        "id": "lpAwPpwv2qjh",
        "outputId": "886437e1-dc87-42be-cda5-aa9c35691036"
      },
      "source": [
        "by_origin_len[:12]"
      ],
      "execution_count": null,
      "outputs": [
        {
          "output_type": "execute_result",
          "data": {
            "text/plain": [
              "[('Indian', 35090),\n",
              " ('English', 6773),\n",
              " ('Arabic', 4827),\n",
              " ('Muslim', 3994),\n",
              " ('Bengali', 3195),\n",
              " ('Greek', 2753),\n",
              " ('Hebrew', 2486),\n",
              " ('Latin', 2279),\n",
              " ('Assemese', 2169),\n",
              " ('French', 2070),\n",
              " ('Biblical', 1846),\n",
              " ('Filipino', 1738)]"
            ]
          },
          "metadata": {
            "tags": []
          },
          "execution_count": 13
        }
      ]
    },
    {
      "cell_type": "markdown",
      "metadata": {
        "id": "RIHDS_b62qjh"
      },
      "source": [
        "From this, we can see that only 10 origins have at least 2000 names. For our experiments, we will use French, Arabic, English and Greek."
      ]
    },
    {
      "cell_type": "code",
      "metadata": {
        "id": "Ntdr_Zif2qji"
      },
      "source": [
        "origins_selection = ['French', 'English', 'Greek', 'Arabic']\n",
        "number_selection = 2000"
      ],
      "execution_count": null,
      "outputs": []
    },
    {
      "cell_type": "markdown",
      "metadata": {
        "id": "QNryozmv2qji"
      },
      "source": [
        "We filter the original dataset based on our origins selection. We only keep the name and its origin as it is the only information needed to perform the classification task."
      ]
    },
    {
      "cell_type": "code",
      "metadata": {
        "id": "ZFx81oWL2qjj"
      },
      "source": [
        "filtered_names = [\n",
        "    {'Name': names, 'Origin': origin}\n",
        "    for origin in origins_selection\n",
        "    for names in by_origin[origin][:number_selection]\n",
        "]"
      ],
      "execution_count": null,
      "outputs": []
    },
    {
      "cell_type": "code",
      "metadata": {
        "scrolled": true,
        "id": "7thkQ3V-2qjj",
        "outputId": "4dcd3a19-7c6a-4772-b143-a034f8c2ac2b"
      },
      "source": [
        "filtered_names[:10]"
      ],
      "execution_count": null,
      "outputs": [
        {
          "output_type": "execute_result",
          "data": {
            "text/plain": [
              "[{'Name': 'Olivier', 'Origin': 'French'},\n",
              " {'Name': 'Henry', 'Origin': 'French'},\n",
              " {'Name': 'Matty', 'Origin': 'French'},\n",
              " {'Name': 'Eveline', 'Origin': 'French'},\n",
              " {'Name': 'Bellamy', 'Origin': 'French'},\n",
              " {'Name': 'Dariel', 'Origin': 'French'},\n",
              " {'Name': 'Ruff', 'Origin': 'French'},\n",
              " {'Name': 'Raydon', 'Origin': 'French'},\n",
              " {'Name': 'Joyelle', 'Origin': 'French'},\n",
              " {'Name': 'Sebastien', 'Origin': 'French'}]"
            ]
          },
          "metadata": {
            "tags": []
          },
          "execution_count": 16
        }
      ]
    },
    {
      "cell_type": "markdown",
      "metadata": {
        "id": "P-HKJDKW2qjk"
      },
      "source": [
        "This filtered dataset will then be split between train and test dataset."
      ]
    },
    {
      "cell_type": "markdown",
      "metadata": {
        "id": "RAvVRDzZ2qjl"
      },
      "source": [
        "## Train - test split"
      ]
    },
    {
      "cell_type": "markdown",
      "metadata": {
        "id": "zDPfdaBc2qjn"
      },
      "source": [
        "Here, we use the classic sklearn split function to define train and test sets. We keep 30% of the data for the test set."
      ]
    },
    {
      "cell_type": "code",
      "metadata": {
        "id": "EHh7Sug02qjn"
      },
      "source": [
        "names_list = [name['Name'] for name in filtered_names]\n",
        "tgt_list = [name['Origin'] for name in filtered_names]"
      ],
      "execution_count": null,
      "outputs": []
    },
    {
      "cell_type": "code",
      "metadata": {
        "id": "dj1BV-9y2qjn"
      },
      "source": [
        "train_names, test_names, train_tgt, test_tgt = train_test_split(\n",
        "    names_list, tgt_list, test_size=0.3, stratify=tgt_list)"
      ],
      "execution_count": null,
      "outputs": []
    },
    {
      "cell_type": "markdown",
      "metadata": {
        "id": "sq5oJqG52qjn"
      },
      "source": [
        "We then reconstruct the datasets with the name associated to its origin."
      ]
    },
    {
      "cell_type": "code",
      "metadata": {
        "id": "Rec4NjCq2qjo"
      },
      "source": [
        "train_set = [\n",
        "    {'Name': name, 'Origin': origin}\n",
        "    for name, origin in zip(train_names, train_tgt)\n",
        "]\n",
        "test_set = [\n",
        "    {'Name': name, 'Origin': origin}\n",
        "    for name, origin in zip(test_names, test_tgt)\n",
        "]"
      ],
      "execution_count": null,
      "outputs": []
    },
    {
      "cell_type": "code",
      "metadata": {
        "id": "DAw2d6p_2qjo",
        "outputId": "897e6859-0b16-425f-f117-a9eb2d7e0859"
      },
      "source": [
        "#sanity check\n",
        "print(f'{len(train_set)=}')\n",
        "print(f'{len(test_set)=}')"
      ],
      "execution_count": null,
      "outputs": [
        {
          "output_type": "stream",
          "text": [
            "len(train_set)=5600\n",
            "len(test_set)=2400\n"
          ],
          "name": "stdout"
        }
      ]
    },
    {
      "cell_type": "markdown",
      "metadata": {
        "id": "MjGiVsDa2qjp"
      },
      "source": [
        "## Datasets creation"
      ]
    },
    {
      "cell_type": "markdown",
      "metadata": {
        "id": "unSvkjn22qjp"
      },
      "source": [
        "The train and test set are then passed through the Dataset class which constructs a dataset from a dictionary of names associated with origins (the train and test sets), a dictionary of admissible origins by name (by_name) and optional vocabularies (names and origins). In the train set, the names and origin vocabularies will be constructed at the character level according to the train_set. In the test set, we reuse the vocabularies constructed with the train set as this vocabulary will be used for the numericalization of the inputs and for the embedding models.  \n",
        "The dataset numericalizes the inputs with respect to the names vocabulary. "
      ]
    },
    {
      "cell_type": "code",
      "metadata": {
        "id": "przfkWVY2qjp"
      },
      "source": [
        "train_dataset = Dataset(train_set, by_name)\n",
        "test_dataset = Dataset(test_set, by_name, \n",
        "                   train_dataset.names_vocab, train_dataset.origin_vocab)"
      ],
      "execution_count": null,
      "outputs": []
    },
    {
      "cell_type": "markdown",
      "metadata": {
        "id": "E8fFUZkT2qjp"
      },
      "source": [
        "An example of the numericalized output is:"
      ]
    },
    {
      "cell_type": "code",
      "metadata": {
        "id": "SGTFmhCZ2qjp",
        "outputId": "8f3234a4-816b-459d-e77c-bae0ad97af66"
      },
      "source": [
        "print(train_set[10])\n",
        "print(train_dataset[10])"
      ],
      "execution_count": null,
      "outputs": [
        {
          "output_type": "stream",
          "text": [
            "{'Name': 'Euryalus', 'Origin': 'Greek'}\n",
            "(tensor([22, 23, 19, 12,  8,  7, 23, 28]), tensor([6]), tensor([6]))\n"
          ],
          "name": "stdout"
        }
      ]
    },
    {
      "cell_type": "markdown",
      "metadata": {
        "id": "sn8Lo3eO2qjq"
      },
      "source": [
        "## Dataloader"
      ]
    },
    {
      "cell_type": "markdown",
      "metadata": {
        "id": "r2ItD_5v2qjq"
      },
      "source": [
        "The train and test datasets are then used for the Dataloader. As a reminder, the Dataloader create batchs from the datasets on which the models will be trained and evaluated. In our experiments, we use a bacth size of 4 and a custom collate function allowing to add padding to the inputs and keep in memory the inputs initial lengths, the target and the admissible targets."
      ]
    },
    {
      "cell_type": "code",
      "metadata": {
        "id": "4VBS1fBk2qjq"
      },
      "source": [
        "train_loader = torch.utils.data.DataLoader(train_dataset, \n",
        "                                           batch_size=4, \n",
        "                                           shuffle=True, \n",
        "                                           collate_fn=collate_fn)"
      ],
      "execution_count": null,
      "outputs": []
    },
    {
      "cell_type": "code",
      "metadata": {
        "id": "y8860JKn2qjq"
      },
      "source": [
        "test_loader = torch.utils.data.DataLoader(test_dataset, \n",
        "                                          batch_size=4, \n",
        "                                          shuffle=False, \n",
        "                                          collate_fn=collate_fn)"
      ],
      "execution_count": null,
      "outputs": []
    },
    {
      "cell_type": "markdown",
      "metadata": {
        "id": "nunc64gh2qjr"
      },
      "source": [
        "## Char2Vec"
      ]
    },
    {
      "cell_type": "markdown",
      "metadata": {
        "id": "oyxNkCuP2qjs"
      },
      "source": [
        "Now, we will train a Char2Vec method (based on the Word2Vec method) on the data to retrieve embeddings at the character level specific to our task.  \n",
        "In order to do so, we use the gensim library. The Char2Vec is established using the filtered names."
      ]
    },
    {
      "cell_type": "markdown",
      "metadata": {
        "id": "LPc5fGNO2qjs"
      },
      "source": [
        "First, we retrieve the lists of names and origins."
      ]
    },
    {
      "cell_type": "code",
      "metadata": {
        "id": "VONb4srx2qjs"
      },
      "source": [
        "names_list = [name['Name'] for name in filtered_names]\n",
        "tgt_list = [name['Origin'] for name in filtered_names]"
      ],
      "execution_count": null,
      "outputs": []
    },
    {
      "cell_type": "markdown",
      "metadata": {
        "id": "CGlXyhOd2qjt"
      },
      "source": [
        "We perform a sanity check by printing the lenght of the names and target lists which should be equal to the number of names selected times the number of origins selected (2000 * 4 in our case)."
      ]
    },
    {
      "cell_type": "code",
      "metadata": {
        "id": "M-44RWQn2qju",
        "outputId": "616bee1a-b4eb-4b85-ed3e-523b7a120a95"
      },
      "source": [
        "print(f'{len(names_list)=}')\n",
        "print(f'{len(tgt_list)=}')"
      ],
      "execution_count": null,
      "outputs": [
        {
          "output_type": "stream",
          "text": [
            "len(names_list)=8000\n",
            "len(tgt_list)=8000\n"
          ],
          "name": "stdout"
        }
      ]
    },
    {
      "cell_type": "markdown",
      "metadata": {
        "id": "yD7q3DX52qjv"
      },
      "source": [
        "Then, the gensim library requires to construct a Corpus yielding one input after another (here an input is a name)."
      ]
    },
    {
      "cell_type": "code",
      "metadata": {
        "id": "cXbZ2iVI2qjv"
      },
      "source": [
        "class MyCorpus():\n",
        "    def __init__(self, names):\n",
        "        self.names = names\n",
        "        \n",
        "    def __iter__(self):\n",
        "        for name in self.names:\n",
        "            yield list(name)"
      ],
      "execution_count": null,
      "outputs": []
    },
    {
      "cell_type": "code",
      "metadata": {
        "id": "VGIuwHRJ2qjw"
      },
      "source": [
        "characters = MyCorpus(names_list)"
      ],
      "execution_count": null,
      "outputs": []
    },
    {
      "cell_type": "markdown",
      "metadata": {
        "id": "7ZrQDtxU2qjw"
      },
      "source": [
        "The Char2Vec model is then trained on the inputs with a window size of 3 and an embedding size of 128."
      ]
    },
    {
      "cell_type": "code",
      "metadata": {
        "id": "GTbGa_RU2qjw",
        "outputId": "0ee11ac3-108a-453a-ee09-97e9b65919f2"
      },
      "source": [
        "%%time\n",
        "char2vec = gensim.models.Word2Vec(characters, min_count=1, window=3, size=128)"
      ],
      "execution_count": null,
      "outputs": [
        {
          "output_type": "stream",
          "text": [
            "CPU times: user 150 ms, sys: 6.14 ms, total: 156 ms\n",
            "Wall time: 118 ms\n"
          ],
          "name": "stdout"
        }
      ]
    },
    {
      "cell_type": "markdown",
      "metadata": {
        "id": "G3cCRE3r2qjw"
      },
      "source": [
        "The vocabulary at character level can then be retrieved from the Char2Vec model."
      ]
    },
    {
      "cell_type": "code",
      "metadata": {
        "id": "tIXt-DC02qjw"
      },
      "source": [
        "char2vec_vocab = char2vec.wv.vocab"
      ],
      "execution_count": null,
      "outputs": []
    },
    {
      "cell_type": "markdown",
      "metadata": {
        "id": "bHEmxg9y2qjw"
      },
      "source": [
        "For example, we can show the statistics of each character of the vocabulary (number of appearance in the inputs, index in vocabulary, ...)."
      ]
    },
    {
      "cell_type": "code",
      "metadata": {
        "id": "8Uh8I3Ik2qjx",
        "outputId": "c83c8c25-7b3b-457a-f365-5a94c8da2a79"
      },
      "source": [
        "char2vec_vocab['D'].__dict__"
      ],
      "execution_count": null,
      "outputs": [
        {
          "output_type": "execute_result",
          "data": {
            "text/plain": [
              "{'count': 540, 'index': 20, 'sample_int': 1724512337}"
            ]
          },
          "metadata": {
            "tags": []
          },
          "execution_count": 31
        }
      ]
    },
    {
      "cell_type": "markdown",
      "metadata": {
        "id": "tUyIUwec2qjx"
      },
      "source": [
        "We also perform a sanity check to verify the shape of the embedding. It should be (128, )."
      ]
    },
    {
      "cell_type": "code",
      "metadata": {
        "id": "0Cu7f-7N2qjy",
        "outputId": "a4e2540a-903b-4285-8c0f-cb6b546ac368"
      },
      "source": [
        "# sanity check\n",
        "char2vec.wv['D'].shape"
      ],
      "execution_count": null,
      "outputs": [
        {
          "output_type": "execute_result",
          "data": {
            "text/plain": [
              "(128,)"
            ]
          },
          "metadata": {
            "tags": []
          },
          "execution_count": 32
        }
      ]
    },
    {
      "cell_type": "markdown",
      "metadata": {
        "id": "JqTCKemg2qjy"
      },
      "source": [
        "## Models"
      ]
    },
    {
      "cell_type": "markdown",
      "metadata": {
        "id": "MFKIIAKM2qjy"
      },
      "source": [
        "As mentionned in the report, we will test 4 models in our experiments: an LSTM and a Self-Attention model with pretrained embeddings (resp. *lstm* and *attn*), and, an LSTM and a Self-Attention model with Char2Vec embeddings (resp. *lstm_char2vec* and *attn_char2vec*)"
      ]
    },
    {
      "cell_type": "markdown",
      "metadata": {
        "id": "O0T_Jtic2qjy"
      },
      "source": [
        "The LSTM have two layers and are bidirectional. Their hidden dimension is 128."
      ]
    },
    {
      "cell_type": "code",
      "metadata": {
        "id": "xOELU5AM2qjz"
      },
      "source": [
        "lstm = LSTMWithAttn(vocab=train_dataset.names_vocab,\n",
        "                    hidden_dim=128,\n",
        "                    n_classes=len(train_dataset.origin_vocab),\n",
        "                    n_layers=2,\n",
        "                    bidirectional=True)\n"
      ],
      "execution_count": null,
      "outputs": []
    },
    {
      "cell_type": "code",
      "metadata": {
        "id": "fS50Et4w2qjz",
        "outputId": "35ae073d-b2d2-454d-8f25-f4f4d00a3832"
      },
      "source": [
        "lstm"
      ],
      "execution_count": null,
      "outputs": [
        {
          "output_type": "execute_result",
          "data": {
            "text/plain": [
              "LSTMWithAttn(\n",
              "  (embedding): Embedding(61, 128, padding_idx=0)\n",
              "  (lstm): LSTM(128, 128, num_layers=2, bidirectional=True)\n",
              "  (out): Linear(in_features=256, out_features=7, bias=True)\n",
              ")"
            ]
          },
          "metadata": {
            "tags": []
          },
          "execution_count": 34
        }
      ]
    },
    {
      "cell_type": "code",
      "metadata": {
        "id": "EnsMWfK42qj0",
        "outputId": "063b2dff-bc1b-4fff-e734-5a9d8c09c74d"
      },
      "source": [
        "lstm_char2vec = LSTMWithAttn(vocab=train_dataset.names_vocab,\n",
        "                            hidden_dim=128,\n",
        "                            n_classes=len(train_dataset.origin_vocab),\n",
        "                            n_layers=2,\n",
        "                            bidirectional=True, \n",
        "                            char2vec = char2vec)\n",
        "\n",
        "# sanity check\n",
        "for char in train_dataset.names_vocab.vocab[3:]:\n",
        "    idx = train_dataset.names_vocab.stoi(char)\n",
        "    a = lstm_char2vec.embedding(torch.LongTensor([idx])).detach().numpy()\n",
        "    b = char2vec.wv[char]\n",
        "    assert (a == b).all()"
      ],
      "execution_count": null,
      "outputs": [
        {
          "output_type": "stream",
          "text": [
            "The following tokens don't have pre-trained vectors and are initialized randomly:  ['<pad>', '<cls>', '<unk>']\n"
          ],
          "name": "stdout"
        }
      ]
    },
    {
      "cell_type": "code",
      "metadata": {
        "id": "_Vb1sgA22qj0",
        "outputId": "a6a56734-9810-40e2-b39e-42c5b943cc69"
      },
      "source": [
        "lstm_char2vec"
      ],
      "execution_count": null,
      "outputs": [
        {
          "output_type": "execute_result",
          "data": {
            "text/plain": [
              "LSTMWithAttn(\n",
              "  (embedding): Embedding(61, 128, padding_idx=0)\n",
              "  (lstm): LSTM(128, 128, num_layers=2, bidirectional=True)\n",
              "  (out): Linear(in_features=256, out_features=7, bias=True)\n",
              ")"
            ]
          },
          "metadata": {
            "tags": []
          },
          "execution_count": 36
        }
      ]
    },
    {
      "cell_type": "markdown",
      "metadata": {
        "id": "9g0Cys2a2qj1"
      },
      "source": [
        "The Self-Attention models have a hidden dimension of 128, 1 head and 1 layer. (Some tests have been made with more heads and layers, and results do not improve)."
      ]
    },
    {
      "cell_type": "code",
      "metadata": {
        "id": "5LhxAgAj2qj1"
      },
      "source": [
        "attn = SelfAttention(vocab=train_dataset.names_vocab,\n",
        "                    hidden_dim=128,\n",
        "                    n_classes=len(train_dataset.origin_vocab),\n",
        "                    num_heads=1,\n",
        "                    n_layers=1)"
      ],
      "execution_count": null,
      "outputs": []
    },
    {
      "cell_type": "code",
      "metadata": {
        "id": "w7YK_lJy2qj2",
        "outputId": "66d13eb5-4069-4a3c-d13d-8bdefabcfbd6"
      },
      "source": [
        "attn"
      ],
      "execution_count": null,
      "outputs": [
        {
          "output_type": "execute_result",
          "data": {
            "text/plain": [
              "SelfAttention(\n",
              "  (embedding): Embedding(61, 128, padding_idx=0)\n",
              "  (positional_embedding): Embedding(50, 10)\n",
              "  (attentions): ModuleList(\n",
              "    (0): MultiheadAttention(\n",
              "      (out_proj): _LinearWithBias(in_features=138, out_features=138, bias=True)\n",
              "    )\n",
              "  )\n",
              "  (out): Linear(in_features=138, out_features=7, bias=True)\n",
              ")"
            ]
          },
          "metadata": {
            "tags": []
          },
          "execution_count": 38
        }
      ]
    },
    {
      "cell_type": "code",
      "metadata": {
        "id": "8KYk7X8T2qj2",
        "outputId": "08a8b41c-7aed-4a30-ab11-f2809ddc2fbf"
      },
      "source": [
        "attn_char2vec = SelfAttention(vocab=train_dataset.names_vocab,\n",
        "                              hidden_dim=128,\n",
        "                              n_classes=len(train_dataset.origin_vocab),\n",
        "                              num_heads=1,\n",
        "                              n_layers=1,\n",
        "                              char2vec=char2vec)\n",
        "# sanity check\n",
        "for char in train_dataset.names_vocab.vocab[3:]:\n",
        "    idx = train_dataset.names_vocab.stoi(char)\n",
        "    a = attn_char2vec.embedding(torch.LongTensor([idx])).detach().numpy()\n",
        "    b = char2vec.wv[char]\n",
        "    assert (a == b).all()"
      ],
      "execution_count": null,
      "outputs": [
        {
          "output_type": "stream",
          "text": [
            "The following tokens don't have pre-trained vectors and are initialized randomly:  ['<pad>', '<cls>', '<unk>']\n"
          ],
          "name": "stdout"
        }
      ]
    },
    {
      "cell_type": "markdown",
      "metadata": {
        "id": "8dgqvXwF2qj2"
      },
      "source": [
        "## Train the model"
      ]
    },
    {
      "cell_type": "markdown",
      "metadata": {
        "id": "YTiLMizU2qj2"
      },
      "source": [
        "We train the models with a learning rate of $10^{-3}$, a patience of 10 and 50 epochs."
      ]
    },
    {
      "cell_type": "code",
      "metadata": {
        "id": "TYH0Jv-T2qj2"
      },
      "source": [
        "lr = 1e-3\n",
        "patience = 10\n",
        "n_epochs = 30"
      ],
      "execution_count": null,
      "outputs": []
    },
    {
      "cell_type": "code",
      "metadata": {
        "id": "Jpe0RkRA2qj3"
      },
      "source": [
        "lstm_trainer = Trainer(model=lstm, lr=lr, patience=patience)"
      ],
      "execution_count": null,
      "outputs": []
    },
    {
      "cell_type": "code",
      "metadata": {
        "id": "ZmMEZfx-2qj4",
        "outputId": "387f89d8-e850-4993-fbdc-410872fcdd89"
      },
      "source": [
        "%%time\n",
        "losses = lstm_trainer.train(train_loader=train_loader, \n",
        "                            test_loader=test_loader, \n",
        "                            epochs=n_epochs)"
      ],
      "execution_count": null,
      "outputs": [
        {
          "output_type": "stream",
          "text": [
            "Step:500 Loss:1.1213824234902858 Eval:0.625\n",
            "best score so far !!\n",
            "Step:1000 Loss:1.0362184695601464 Eval:0.645\n",
            "best score so far !!\n",
            "Step:1500 Loss:0.9931824218432108 Eval:0.71125\n",
            "best score so far !!\n",
            "Step:2000 Loss:0.9528274572342634 Eval:0.7095833333333333\n",
            "Step:2500 Loss:0.9217933468282222 Eval:0.71625\n",
            "best score so far !!\n",
            "Step:3000 Loss:0.8923632325902581 Eval:0.72625\n",
            "best score so far !!\n",
            "Step:3500 Loss:0.8665237633402326 Eval:0.75375\n",
            "best score so far !!\n",
            "Step:4000 Loss:0.8463138799511362 Eval:0.7345833333333334\n",
            "Step:4500 Loss:0.8289394731834117 Eval:0.7516666666666667\n",
            "Step:5000 Loss:0.8056690293153748 Eval:0.7520833333333333\n",
            "Step:5500 Loss:0.7904573676689444 Eval:0.7675\n",
            "best score so far !!\n",
            "Step:6000 Loss:0.768921016733395 Eval:0.7804166666666666\n",
            "best score so far !!\n",
            "Step:6500 Loss:0.7504989585502413 Eval:0.7720833333333333\n",
            "Step:7000 Loss:0.7346787038936995 Eval:0.7691666666666667\n",
            "Step:7500 Loss:0.7137739337668366 Eval:0.7795833333333333\n",
            "Step:8000 Loss:0.6970901292606068 Eval:0.77375\n",
            "Step:8500 Loss:0.6809970164373449 Eval:0.7891666666666667\n",
            "best score so far !!\n",
            "Step:9000 Loss:0.661649492450259 Eval:0.7770833333333333\n",
            "Step:9500 Loss:0.6474594113488075 Eval:0.7758333333333334\n",
            "Step:10000 Loss:0.6322967736696213 Eval:0.775\n",
            "Step:10500 Loss:0.6158545528998698 Eval:0.7820833333333334\n",
            "Step:11000 Loss:0.603635769626885 Eval:0.7825\n",
            "Step:11500 Loss:0.5881045773116816 Eval:0.7833333333333333\n",
            "Step:12000 Loss:0.5736560437150583 Eval:0.7875\n",
            "Step:12500 Loss:0.5624489879684581 Eval:0.7708333333333334\n",
            "Step:13000 Loss:0.5488787805120592 Eval:0.7845833333333333\n",
            "Step:13500 Loss:0.5366091342421555 Eval:0.7804166666666666\n",
            "CPU times: user 5min 23s, sys: 24 s, total: 5min 47s\n",
            "Wall time: 5min 48s\n"
          ],
          "name": "stdout"
        }
      ]
    },
    {
      "cell_type": "code",
      "metadata": {
        "id": "-fkazW0A2qj4"
      },
      "source": [
        "lstm_c2v_trainer = Trainer(model=lstm_char2vec, lr=lr, patience=patience)"
      ],
      "execution_count": null,
      "outputs": []
    },
    {
      "cell_type": "code",
      "metadata": {
        "id": "1uXyBTXg2qj4",
        "outputId": "86870380-148d-46fd-ad7a-c708f65116f9"
      },
      "source": [
        "%%time\n",
        "losses = lstm_c2v_trainer.train(train_loader=train_loader, \n",
        "                               test_loader=test_loader, \n",
        "                               epochs=50)"
      ],
      "execution_count": null,
      "outputs": [
        {
          "output_type": "stream",
          "text": [
            "Step:500 Loss:1.3217241733074188 Eval:0.4870833333333333\n",
            "best score so far !!\n",
            "Step:1000 Loss:1.200481954574585 Eval:0.54\n",
            "best score so far !!\n",
            "Step:1500 Loss:1.1608058240016301 Eval:0.5370833333333334\n",
            "Step:2000 Loss:1.1319662450924515 Eval:0.5579166666666666\n",
            "best score so far !!\n",
            "Step:2500 Loss:1.1123207839131355 Eval:0.6195833333333334\n",
            "best score so far !!\n",
            "Step:3000 Loss:1.0917799574534097 Eval:0.6066666666666667\n",
            "Step:3500 Loss:1.0701944253104074 Eval:0.615\n",
            "Step:4000 Loss:1.055067142650485 Eval:0.6404166666666666\n",
            "best score so far !!\n",
            "Step:4500 Loss:1.0379136925935746 Eval:0.6733333333333333\n",
            "best score so far !!\n",
            "Step:5000 Loss:1.0225826453745366 Eval:0.6633333333333333\n",
            "Step:5500 Loss:1.0090970711938358 Eval:0.6791666666666667\n",
            "best score so far !!\n",
            "Step:6000 Loss:0.99289642361179 Eval:0.6954166666666667\n",
            "best score so far !!\n",
            "Step:6500 Loss:0.97979963762657 Eval:0.6725\n",
            "Step:7000 Loss:0.9675585450617863 Eval:0.70125\n",
            "best score so far !!\n",
            "Step:7500 Loss:0.9535642254394789 Eval:0.715\n",
            "best score so far !!\n",
            "Step:8000 Loss:0.9410504232344683 Eval:0.72625\n",
            "best score so far !!\n",
            "Step:8500 Loss:0.92896839010332 Eval:0.7245833333333334\n",
            "Step:9000 Loss:0.9157766814807223 Eval:0.73375\n",
            "best score so far !!\n",
            "Step:9500 Loss:0.9050077648692225 Eval:0.7208333333333333\n",
            "Step:10000 Loss:0.8928768814800307 Eval:0.7154166666666667\n",
            "Step:10500 Loss:0.8817641802470954 Eval:0.7275\n",
            "Step:11000 Loss:0.8714486108081924 Eval:0.7358333333333333\n",
            "best score so far !!\n",
            "Step:11500 Loss:0.859773708558277 Eval:0.7391666666666666\n",
            "best score so far !!\n",
            "Step:12000 Loss:0.8480517558911621 Eval:0.7420833333333333\n",
            "best score so far !!\n",
            "Step:12500 Loss:0.8377317222180404 Eval:0.75\n",
            "best score so far !!\n",
            "Step:13000 Loss:0.8259899603299027 Eval:0.7429166666666667\n",
            "Step:13500 Loss:0.8150540628051126 Eval:0.7479166666666667\n",
            "Step:14000 Loss:0.8048317003482724 Eval:0.7479166666666667\n",
            "Step:14500 Loss:0.7921879390380847 Eval:0.74375\n",
            "Step:15000 Loss:0.7814909002132423 Eval:0.745\n",
            "Step:15500 Loss:0.7720149705749805 Eval:0.7366666666666667\n",
            "Step:16000 Loss:0.7598305287054663 Eval:0.7408333333333333\n",
            "Step:16500 Loss:0.7492472128667815 Eval:0.75375\n",
            "best score so far !!\n",
            "Step:17000 Loss:0.73849826698268 Eval:0.7504166666666666\n",
            "Step:17500 Loss:0.7263646019161729 Eval:0.7475\n",
            "Step:18000 Loss:0.7159428347755828 Eval:0.7558333333333334\n",
            "best score so far !!\n",
            "Step:18500 Loss:0.7049251941059876 Eval:0.765\n",
            "best score so far !!\n",
            "Step:19000 Loss:0.6946487790548326 Eval:0.7595833333333334\n",
            "Step:19500 Loss:0.6848211472854601 Eval:0.76\n",
            "Step:20000 Loss:0.6743294780797412 Eval:0.76375\n",
            "Step:20500 Loss:0.6638637830025382 Eval:0.74875\n",
            "Step:21000 Loss:0.6547463110031673 Eval:0.7495833333333334\n",
            "Step:21500 Loss:0.6439570151189328 Eval:0.7558333333333334\n",
            "Step:22000 Loss:0.6351294472978954 Eval:0.7591666666666667\n",
            "Step:22500 Loss:0.6268943625139058 Eval:0.755\n",
            "Step:23000 Loss:0.6174413991816228 Eval:0.7575\n",
            "Step:23500 Loss:0.608848612186048 Eval:0.7520833333333333\n",
            "CPU times: user 9min 14s, sys: 48.1 s, total: 10min 2s\n",
            "Wall time: 10min 21s\n"
          ],
          "name": "stdout"
        }
      ]
    },
    {
      "cell_type": "code",
      "metadata": {
        "id": "zU6Xpvio2qj4"
      },
      "source": [
        "attn_trainer = Trainer(model=attn, lr=lr, patience=patience)"
      ],
      "execution_count": null,
      "outputs": []
    },
    {
      "cell_type": "code",
      "metadata": {
        "id": "ruigt9hZ2qj4",
        "outputId": "08a66484-d616-40de-ce68-c3762506b6a5"
      },
      "source": [
        "%%time\n",
        "losses = attn_trainer.train(train_loader=train_loader, \n",
        "                            test_loader=test_loader, \n",
        "                            epochs=50)"
      ],
      "execution_count": null,
      "outputs": [
        {
          "output_type": "stream",
          "text": [
            "Step:500 Loss:1.3052972197532653 Eval:0.47041666666666665\n",
            "best score so far !!\n",
            "Step:1000 Loss:1.273332990527153 Eval:0.47208333333333335\n",
            "best score so far !!\n",
            "Step:1500 Loss:1.251480328877767 Eval:0.4995833333333333\n",
            "best score so far !!\n",
            "Step:2000 Loss:1.2299215060323476 Eval:0.4995833333333333\n",
            "Step:2500 Loss:1.2124556968688964 Eval:0.5325\n",
            "best score so far !!\n",
            "Step:3000 Loss:1.1980312816922862 Eval:0.5666666666666667\n",
            "best score so far !!\n",
            "Step:3500 Loss:1.1809264698901347 Eval:0.5604166666666667\n",
            "Step:4000 Loss:1.1642175032068045 Eval:0.61625\n",
            "best score so far !!\n",
            "Step:4500 Loss:1.1489848571270704 Eval:0.61375\n",
            "Step:5000 Loss:1.136407520286739 Eval:0.5879166666666666\n",
            "Step:5500 Loss:1.1261088438697837 Eval:0.6108333333333333\n",
            "Step:6000 Loss:1.1152944537736476 Eval:0.635\n",
            "best score so far !!\n",
            "Step:6500 Loss:1.1062735906369412 Eval:0.6279166666666667\n",
            "Step:7000 Loss:1.0971327073456985 Eval:0.6358333333333334\n",
            "best score so far !!\n",
            "Step:7500 Loss:1.0903182856728633 Eval:0.63625\n",
            "best score so far !!\n",
            "Step:8000 Loss:1.083097128109075 Eval:0.6491666666666667\n",
            "best score so far !!\n",
            "Step:8500 Loss:1.0762711793929338 Eval:0.6445833333333333\n",
            "Step:9000 Loss:1.0714962730916837 Eval:0.6429166666666667\n",
            "Step:9500 Loss:1.0668453010614765 Eval:0.6233333333333333\n",
            "Step:10000 Loss:1.0600568119358271 Eval:0.6445833333333333\n",
            "Step:10500 Loss:1.0562907826556336 Eval:0.6458333333333334\n",
            "Step:11000 Loss:1.0518876383165745 Eval:0.6558333333333334\n",
            "best score so far !!\n",
            "Step:11500 Loss:1.0478616895976922 Eval:0.6458333333333334\n",
            "Step:12000 Loss:1.0444851131951436 Eval:0.65625\n",
            "best score so far !!\n",
            "Step:12500 Loss:1.0411214113417269 Eval:0.6316666666666667\n",
            "Step:13000 Loss:1.0377498969885592 Eval:0.64125\n",
            "Step:13500 Loss:1.0347103719371888 Eval:0.6354166666666666\n",
            "Step:14000 Loss:1.032027213556692 Eval:0.6454166666666666\n",
            "Step:14500 Loss:1.0300334837223435 Eval:0.6304166666666666\n",
            "Step:15000 Loss:1.0272484197201828 Eval:0.6433333333333333\n",
            "Step:15500 Loss:1.0243224706306093 Eval:0.6420833333333333\n",
            "Step:16000 Loss:1.0216156555574853 Eval:0.6395833333333333\n",
            "Step:16500 Loss:1.0193528949464812 Eval:0.6579166666666667\n",
            "best score so far !!\n",
            "Step:17000 Loss:1.0180489135419621 Eval:0.64375\n",
            "Step:17500 Loss:1.0156027708317552 Eval:0.6554166666666666\n",
            "Step:18000 Loss:1.0130178680734503 Eval:0.6541666666666667\n",
            "Step:18500 Loss:1.0120320351671528 Eval:0.6575\n",
            "Step:19000 Loss:1.0100895100828065 Eval:0.6525\n",
            "Step:19500 Loss:1.0084741699225628 Eval:0.6458333333333334\n",
            "Step:20000 Loss:1.0064917920548468 Eval:0.6575\n",
            "Step:20500 Loss:1.0053885321867901 Eval:0.6566666666666666\n",
            "Step:21000 Loss:1.0040645008660143 Eval:0.6283333333333333\n",
            "Step:21500 Loss:1.0023989688386752 Eval:0.6408333333333334\n",
            "CPU times: user 1min 27s, sys: 6.25 s, total: 1min 33s\n",
            "Wall time: 1min 39s\n"
          ],
          "name": "stdout"
        }
      ]
    },
    {
      "cell_type": "code",
      "metadata": {
        "id": "aH_6Oloh2qj5"
      },
      "source": [
        "attn_c2v_trainer = Trainer(model=attn_char2vec, lr=lr, patience=patience)"
      ],
      "execution_count": null,
      "outputs": []
    },
    {
      "cell_type": "code",
      "metadata": {
        "id": "j5M-wFnD2qj5",
        "outputId": "da786359-d5e1-4348-ae1f-607fab2b5eef"
      },
      "source": [
        "%%time\n",
        "losses = attn_c2v_trainer.train(train_loader=train_loader, \n",
        "                            test_loader=test_loader, \n",
        "                            epochs=n_epochs)"
      ],
      "execution_count": null,
      "outputs": [
        {
          "output_type": "stream",
          "text": [
            "Step:500 Loss:1.2946779745817185 Eval:0.5129166666666667\n",
            "best score so far !!\n",
            "Step:1000 Loss:1.1899928192794322 Eval:0.5975\n",
            "best score so far !!\n",
            "Step:1500 Loss:1.1423072173347075 Eval:0.5904166666666667\n",
            "Step:2000 Loss:1.1133825916610658 Eval:0.59375\n",
            "Step:2500 Loss:1.0950530863970518 Eval:0.5945833333333334\n",
            "Step:3000 Loss:1.0776499574507277 Eval:0.6433333333333333\n",
            "best score so far !!\n",
            "Step:3500 Loss:1.065104850694537 Eval:0.6216666666666667\n",
            "Step:4000 Loss:1.0531502963202075 Eval:0.6166666666666667\n",
            "Step:4500 Loss:1.04263129228933 Eval:0.6275\n",
            "Step:5000 Loss:1.0360822637431324 Eval:0.6458333333333334\n",
            "best score so far !!\n",
            "Step:5500 Loss:1.0297629484717141 Eval:0.6445833333333333\n",
            "Step:6000 Loss:1.0225555858444422 Eval:0.6379166666666667\n",
            "Step:6500 Loss:1.020079219440428 Eval:0.6629166666666667\n",
            "best score so far !!\n",
            "Step:7000 Loss:1.015830276108746 Eval:0.6479166666666667\n",
            "Step:7500 Loss:1.0117966048444311 Eval:0.65\n",
            "Step:8000 Loss:1.0078570534558966 Eval:0.62\n",
            "Step:8500 Loss:1.0044795274147216 Eval:0.66375\n",
            "best score so far !!\n",
            "Step:9000 Loss:1.0018835452281767 Eval:0.6579166666666667\n",
            "Step:9500 Loss:0.9984758199994501 Eval:0.6358333333333334\n",
            "Step:10000 Loss:0.9972469900943339 Eval:0.65875\n",
            "Step:10500 Loss:0.9944969048592306 Eval:0.6541666666666667\n",
            "Step:11000 Loss:0.9920874996205622 Eval:0.6358333333333334\n",
            "Step:11500 Loss:0.9891891023782284 Eval:0.64375\n",
            "Step:12000 Loss:0.9878033239313712 Eval:0.635\n",
            "Step:12500 Loss:0.9854852969616652 Eval:0.6658333333333334\n",
            "best score so far !!\n",
            "Step:13000 Loss:0.9836141541995681 Eval:0.6516666666666666\n",
            "Step:13500 Loss:0.9823597995732669 Eval:0.66375\n",
            "Step:14000 Loss:0.980395595310522 Eval:0.6575\n",
            "Step:14500 Loss:0.9791754007288094 Eval:0.6395833333333333\n",
            "Step:15000 Loss:0.9770244039396445 Eval:0.6658333333333334\n",
            "Step:15500 Loss:0.9755729148089886 Eval:0.6679166666666667\n",
            "best score so far !!\n",
            "Step:16000 Loss:0.9740449609681964 Eval:0.6695833333333333\n",
            "best score so far !!\n",
            "Step:16500 Loss:0.9736447278423743 Eval:0.6508333333333334\n",
            "Step:17000 Loss:0.9709598630000563 Eval:0.665\n",
            "Step:17500 Loss:0.9699814853642668 Eval:0.6529166666666667\n",
            "Step:18000 Loss:0.9689510794654489 Eval:0.6795833333333333\n",
            "best score so far !!\n",
            "Step:18500 Loss:0.9672966004964467 Eval:0.6575\n",
            "Step:19000 Loss:0.9660936224844895 Eval:0.6658333333333334\n",
            "Step:19500 Loss:0.9651408562522669 Eval:0.6633333333333333\n",
            "Step:20000 Loss:0.9635800481557846 Eval:0.6608333333333334\n",
            "Step:20500 Loss:0.9627018239069276 Eval:0.67375\n",
            "Step:21000 Loss:0.9618323069853442 Eval:0.675\n",
            "Step:21500 Loss:0.960385549248651 Eval:0.65625\n",
            "Step:22000 Loss:0.9591754395785657 Eval:0.6745833333333333\n",
            "Step:22500 Loss:0.9584139450331529 Eval:0.6741666666666667\n",
            "Step:23000 Loss:0.9578114841450815 Eval:0.6795833333333333\n",
            "CPU times: user 1min 35s, sys: 6.74 s, total: 1min 42s\n",
            "Wall time: 1min 50s\n"
          ],
          "name": "stdout"
        }
      ]
    },
    {
      "cell_type": "markdown",
      "metadata": {
        "id": "hSHgHTo82qj5"
      },
      "source": [
        "## Evaluation"
      ]
    },
    {
      "cell_type": "markdown",
      "metadata": {
        "id": "XWqK2h8h2qj5"
      },
      "source": [
        "The models are then evaluated using the weights associated with the best score from the training phase."
      ]
    },
    {
      "cell_type": "markdown",
      "metadata": {
        "id": "F8UU7u4h2qj5"
      },
      "source": [
        "The weights are loaded:"
      ]
    },
    {
      "cell_type": "code",
      "metadata": {
        "id": "oKXDchNZ2qj5",
        "outputId": "cfcfaa45-01be-497a-8b68-05bf7baf2d88"
      },
      "source": [
        "lstm.load_state_dict(lstm_trainer.best_weights)\n",
        "lstm_char2vec.load_state_dict(lstm_c2v_trainer.best_weights)\n",
        "attn.load_state_dict(attn_trainer.best_weights)\n",
        "attn_char2vec.load_state_dict(attn_c2v_trainer.best_weights)"
      ],
      "execution_count": null,
      "outputs": [
        {
          "output_type": "execute_result",
          "data": {
            "text/plain": [
              "<All keys matched successfully>"
            ]
          },
          "metadata": {
            "tags": []
          },
          "execution_count": 49
        }
      ]
    },
    {
      "cell_type": "markdown",
      "metadata": {
        "id": "0za43IQG2qj6"
      },
      "source": [
        "We produce prediction for each model using the 'prediction' function defined in the validation pipeline. It predicts the output of an input with respect to a specified model. The function returns the list of admissible target (which are the true targets) and the predicted output."
      ]
    },
    {
      "cell_type": "code",
      "metadata": {
        "id": "knKrKH6D2qj6"
      },
      "source": [
        "true_lstm, pred_lstm = prediction(lstm, test_loader)\n",
        "true_lstm_c2v, pred_lstm_c2v = prediction(lstm_char2vec, test_loader)\n",
        "true_attn, pred_attn = prediction(attn, test_loader)\n",
        "true_attn_c2v, pred_attn_c2v = prediction(attn_char2vec, test_loader)"
      ],
      "execution_count": null,
      "outputs": []
    },
    {
      "cell_type": "markdown",
      "metadata": {
        "id": "eJeTmcJB2qj7"
      },
      "source": [
        "## Quantitative analysis"
      ]
    },
    {
      "cell_type": "markdown",
      "metadata": {
        "id": "F_KPLRG02qj7"
      },
      "source": [
        "The models are then evaluated with respect to a custom accuracy score allowing multiple possible outputs. The results zre given below for each model."
      ]
    },
    {
      "cell_type": "code",
      "metadata": {
        "id": "g3g0opwL2qj7",
        "outputId": "bfeaa5ca-4ef5-4d23-f059-c2aa728c0adc"
      },
      "source": [
        "print(f'LSTM: {evaluate(true_lstm, pred_lstm)}')\n",
        "print(f'LSTM with Char2Vec: {evaluate(true_lstm_c2v, pred_lstm_c2v)}')\n",
        "print(f'Self-Attention: {evaluate(true_attn, pred_attn)}')\n",
        "print(f'Self-Attention with Char2Vec: {evaluate(true_attn_c2v, pred_attn_c2v)}')"
      ],
      "execution_count": null,
      "outputs": [
        {
          "output_type": "stream",
          "text": [
            "LSTM: 0.78917\n",
            "LSTM with Char2Vec: 0.765\n",
            "Self-Attention: 0.65792\n",
            "Self-Attention with Char2Vec: 0.67958\n"
          ],
          "name": "stdout"
        }
      ]
    },
    {
      "cell_type": "markdown",
      "metadata": {
        "id": "NlpOgVr_2qj7"
      },
      "source": [
        "The best performing model is the bidirectional LSTM with pretrained embeddings (no Char2Vec). Its accuracy score is 78.92%, whereas with Char2Vec embeddings, the score decrease to 76.50%. The Self-Attention model does not reach 70% of accuracy. The Self-Attention scores are higher with Char2Vec than without (resp. 67.96% and 65.79%). "
      ]
    },
    {
      "cell_type": "markdown",
      "metadata": {
        "id": "RaUxy7rn2qj7"
      },
      "source": [
        "Then, we can show the confusion matrix to have a better view on which classes the models performs the best, and on which ones they make frequent mistakes. For the confusion matrix, we make a simple retreatment on data to have only one target by input, instead of the list of admissible targets as given by the prediction function."
      ]
    },
    {
      "cell_type": "code",
      "metadata": {
        "id": "hqgTtwT92qj9"
      },
      "source": [
        "tgt_lstm = unique_target(true_lstm, pred_lstm)\n",
        "tgt_lstm_c2v = unique_target(true_lstm_c2v, pred_lstm_c2v)\n",
        "tgt_attn = unique_target(true_attn, pred_attn)\n",
        "tgt_attn_c2v = unique_target(true_attn_c2v, pred_attn_c2v)"
      ],
      "execution_count": null,
      "outputs": []
    },
    {
      "cell_type": "code",
      "metadata": {
        "id": "5abvEqcW2qj9"
      },
      "source": [
        "def plot_conf_matrix(y_true, y_pred):\n",
        "    '''\n",
        "    Plot confusion matrix\n",
        "    '''\n",
        "    cf_matrix = confusion_matrix(y_true, y_pred, normalize='true')\n",
        "    sns.heatmap(cf_matrix, annot=True, \n",
        "                xticklabels=train_dataset.origin_vocab[3:], \n",
        "                yticklabels=train_dataset.origin_vocab[3:])"
      ],
      "execution_count": null,
      "outputs": []
    },
    {
      "cell_type": "markdown",
      "metadata": {
        "id": "_W0sozhw2qj-"
      },
      "source": [
        "The LSTM with pretrained embeddings reaches a performance of 92% of accuracy on the Arabic names, whereas the English class is only predicted right 68% of the time. Its most frequent mistake is to predict French when the true origin was English, which seems coherent since French and English names can be similar."
      ]
    },
    {
      "cell_type": "code",
      "metadata": {
        "id": "LGMP4fo32qj-",
        "outputId": "2471f293-7e9f-4d76-de1c-abd75c4c09bc"
      },
      "source": [
        "plot_conf_matrix(tgt_lstm, pred_lstm)"
      ],
      "execution_count": null,
      "outputs": [
        {
          "output_type": "display_data",
          "data": {
            "image/png": "[encoded data removed]",
            "text/plain": [
              "<Figure size 432x288 with 2 Axes>"
            ]
          },
          "metadata": {
            "tags": [],
            "needs_background": "light"
          }
        }
      ]
    },
    {
      "cell_type": "markdown",
      "metadata": {
        "id": "RQVjcBOe2qj-"
      },
      "source": [
        "The LSTM with Char2Vec embedding has a similar behaviour: its best performance is on the Arabic class, and its worst in the English class. This behaviour can be explained by the fact that Arabic names have a representation far from other classes."
      ]
    },
    {
      "cell_type": "code",
      "metadata": {
        "id": "EcutH1Mr2qj_",
        "outputId": "2c7379f3-07e4-444c-beca-d551c7bbc174"
      },
      "source": [
        "plot_conf_matrix(tgt_lstm_c2v, pred_lstm_c2v)"
      ],
      "execution_count": null,
      "outputs": [
        {
          "output_type": "display_data",
          "data": {
            "image/png": "[encoded data removed]",
            "text/plain": [
              "<Figure size 432x288 with 2 Axes>"
            ]
          },
          "metadata": {
            "tags": [],
            "needs_background": "light"
          }
        }
      ]
    },
    {
      "cell_type": "markdown",
      "metadata": {
        "id": "VkvEf2Og2qj_"
      },
      "source": [
        "The Self-Attention model with pretrained embeddings is performing poorly than the LSTM. Especially on the Greek class where only 51% of the Greek names are well classified. The Arabic class is still the one with the highest performance. The model seems to mix the other three classes as it makes frequent mistakes on these."
      ]
    },
    {
      "cell_type": "code",
      "metadata": {
        "id": "5EarkoPL2qj_",
        "outputId": "08554264-2fd6-43f3-efd4-f598233ed02d"
      },
      "source": [
        "plot_conf_matrix(tgt_attn, pred_attn)"
      ],
      "execution_count": null,
      "outputs": [
        {
          "output_type": "display_data",
          "data": {
            "image/png": "[encoded data removed]",
            "text/plain": [
              "<Figure size 432x288 with 2 Axes>"
            ]
          },
          "metadata": {
            "tags": [],
            "needs_background": "light"
          }
        }
      ]
    },
    {
      "cell_type": "markdown",
      "metadata": {
        "id": "KI210s022qj_"
      },
      "source": [
        "When the Self-Attention model is trained based on Char2Vec embeddings, it seems to be performing slightly better on English and Greek classes but its performance on Arabic and French classes decrease by 5pts. Once again, the Arabic class is the one with the best performance."
      ]
    },
    {
      "cell_type": "code",
      "metadata": {
        "id": "nZS6Z6Ob2qj_",
        "outputId": "04a41383-54ef-4868-81fc-8407fcf05092"
      },
      "source": [
        "plot_conf_matrix(tgt_attn_c2v, pred_attn_c2v)"
      ],
      "execution_count": null,
      "outputs": [
        {
          "output_type": "display_data",
          "data": {
            "image/png": "[encoded data removed]",
            "text/plain": [
              "<Figure size 432x288 with 2 Axes>"
            ]
          },
          "metadata": {
            "tags": [],
            "needs_background": "light"
          }
        }
      ]
    },
    {
      "cell_type": "markdown",
      "metadata": {
        "id": "e1HcM5qQ2qkA"
      },
      "source": [
        "## Qualitative analysis"
      ]
    },
    {
      "cell_type": "markdown",
      "metadata": {
        "id": "kw3awEqG2qkA"
      },
      "source": [
        "In the last part of this project, we focuse on the qualitative results of the models. We do so by visualizing the attention weights of each model for a random input. The plot gives us the final attention weights of the model at the character level, and the probabilities of prediction for each classe."
      ]
    },
    {
      "cell_type": "code",
      "metadata": {
        "id": "xsrHDVYz2qkA"
      },
      "source": [
        "plt_lstm = Plotter(train_dataset.names_vocab, \n",
        "                   train_dataset.origin_vocab, lstm)\n",
        "plt_lstm_c2v = Plotter(train_dataset.names_vocab, \n",
        "                       train_dataset.origin_vocab, lstm_char2vec)\n",
        "plt_attn = Plotter(train_dataset.names_vocab, \n",
        "                   train_dataset.origin_vocab, attn)\n",
        "plt_attn_c2v = Plotter(train_dataset.names_vocab, \n",
        "                       train_dataset.origin_vocab, attn_char2vec)"
      ],
      "execution_count": null,
      "outputs": []
    },
    {
      "cell_type": "markdown",
      "metadata": {
        "id": "QIgowUsd2qkA"
      },
      "source": [
        "We choose to show that qualitative analysis on the name 'Daphné', but feel free to test any other name !"
      ]
    },
    {
      "cell_type": "markdown",
      "metadata": {
        "id": "4S_xxCnX2qkB"
      },
      "source": [
        "What can be seen from the following graphs is:  \n",
        "- The LSTM models with and without Char2Vec embeddings seem to focus on only one character of the name to make predictions, especially with short names. Again, with the names that have been tested, it seems that the models are quite 'sure' about their predictions as a class is always predominant from the others. It may be the fact that it learned better representations of each class than the Self-Attention models.\n",
        "- The Self-Attention models with and without Char2Vec seem to use more characters than the LSTM to make their predictions. Moreover, the probabilities of prediction are closer by class than with the LSTM. This may be the reason why these models perform poorer than the LSTM. It may be due to closer representation of each class, therefore hesitating between classes.\n",
        "\n",
        "Note that it is possible that any example that has not been tested changes this conclusion."
      ]
    },
    {
      "cell_type": "code",
      "metadata": {
        "id": "Ur-JVI1A2qkB"
      },
      "source": [
        "name_test = 'Daphné'"
      ],
      "execution_count": null,
      "outputs": []
    },
    {
      "cell_type": "code",
      "metadata": {
        "id": "EaPjPi4v2qkB",
        "outputId": "53179723-0234-4d5c-f648-b1055242cb9a"
      },
      "source": [
        "plt_lstm.plot_attn_probas(name_test)"
      ],
      "execution_count": null,
      "outputs": [
        {
          "output_type": "display_data",
          "data": {
            "image/png": "[encoded data removed]",
            "text/plain": [
              "<Figure size 1080x288 with 3 Axes>"
            ]
          },
          "metadata": {
            "tags": [],
            "needs_background": "light"
          }
        }
      ]
    },
    {
      "cell_type": "code",
      "metadata": {
        "id": "fJGzGf3B2qkB",
        "outputId": "17c304ba-dc93-4bdf-bda0-e1f63186c32b"
      },
      "source": [
        "plt_lstm_c2v.plot_attn_probas(name_test)"
      ],
      "execution_count": null,
      "outputs": [
        {
          "output_type": "display_data",
          "data": {
            "image/png": "[encoded data removed]",
            "text/plain": [
              "<Figure size 1080x288 with 3 Axes>"
            ]
          },
          "metadata": {
            "tags": [],
            "needs_background": "light"
          }
        }
      ]
    },
    {
      "cell_type": "code",
      "metadata": {
        "id": "SOksdffp2qkB",
        "outputId": "015e77a9-af03-43c9-b143-9ad80c9f75ab"
      },
      "source": [
        "plt_attn.plot_attn_probas(name_test)"
      ],
      "execution_count": null,
      "outputs": [
        {
          "output_type": "display_data",
          "data": {
            "image/png": "[encoded data removed]",
            "text/plain": [
              "<Figure size 1080x288 with 3 Axes>"
            ]
          },
          "metadata": {
            "tags": [],
            "needs_background": "light"
          }
        }
      ]
    },
    {
      "cell_type": "code",
      "metadata": {
        "id": "cK2I2NaJ2qkC",
        "outputId": "f68247fd-519b-4cec-e310-fd98dffa8934"
      },
      "source": [
        "plt_attn_c2v.plot_attn_probas(name_test)"
      ],
      "execution_count": null,
      "outputs": [
        {
          "output_type": "display_data",
          "data": {
            "image/png": "[encoded data removed]",
            "text/plain": [
              "<Figure size 1080x288 with 3 Axes>"
            ]
          },
          "metadata": {
            "tags": [],
            "needs_background": "light"
          }
        }
      ]
    },
    {
      "cell_type": "code",
      "metadata": {
        "id": "P9qtvgt_2qkC"
      },
      "source": [
        ""
      ],
      "execution_count": null,
      "outputs": []
    },
    {
      "cell_type": "code",
      "metadata": {
        "id": "2eDj9bnU2qkC"
      },
      "source": [
        ""
      ],
      "execution_count": null,
      "outputs": []
    },
    {
      "cell_type": "code",
      "metadata": {
        "id": "k4mgK2h92qkC"
      },
      "source": [
        ""
      ],
      "execution_count": null,
      "outputs": []
    },
    {
      "cell_type": "code",
      "metadata": {
        "id": "O5aRRtgb2qkL"
      },
      "source": [
        ""
      ],
      "execution_count": null,
      "outputs": []
    }
  ]
}